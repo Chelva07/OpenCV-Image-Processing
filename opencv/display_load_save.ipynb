{
 "cells": [
  {
   "cell_type": "code",
   "execution_count": 2,
   "id": "c89620ee-7a7f-4761-9ae6-0cd9e0f17727",
   "metadata": {},
   "outputs": [
    {
     "name": "stdout",
     "output_type": "stream",
     "text": [
      "Collecting opencv-python\n",
      "  Using cached opencv_python-4.11.0.86-cp37-abi3-win_amd64.whl.metadata (20 kB)\n",
      "Requirement already satisfied: numpy>=1.21.2 in c:\\users\\lalks\\.anaconda\\lib\\site-packages (from opencv-python) (1.26.4)\n",
      "Using cached opencv_python-4.11.0.86-cp37-abi3-win_amd64.whl (39.5 MB)\n",
      "Installing collected packages: opencv-python\n",
      "Successfully installed opencv-python-4.11.0.86\n"
     ]
    }
   ],
   "source": [
    "!pip install opencv-python\n"
   ]
  },
  {
   "cell_type": "code",
   "execution_count": 3,
   "id": "24e32608-a26d-4534-a3a7-7b5761361911",
   "metadata": {},
   "outputs": [
    {
     "name": "stdout",
     "output_type": "stream",
     "text": [
      "Collecting opencv-contrib-pythonNote: you may need to restart the kernel to use updated packages.\n",
      "\n",
      "  Downloading opencv_contrib_python-4.11.0.86-cp37-abi3-win_amd64.whl.metadata (20 kB)\n",
      "Requirement already satisfied: numpy>=1.21.2 in c:\\users\\lalks\\.anaconda\\lib\\site-packages (from opencv-contrib-python) (1.26.4)\n",
      "Downloading opencv_contrib_python-4.11.0.86-cp37-abi3-win_amd64.whl (46.2 MB)\n",
      "   ---------------------------------------- 0.0/46.2 MB ? eta -:--:--\n",
      "   - -------------------------------------- 1.3/46.2 MB 6.7 MB/s eta 0:00:07\n",
      "   - -------------------------------------- 1.8/46.2 MB 5.6 MB/s eta 0:00:08\n",
      "   -- ------------------------------------- 2.4/46.2 MB 4.2 MB/s eta 0:00:11\n",
      "   -- ------------------------------------- 2.9/46.2 MB 3.6 MB/s eta 0:00:12\n",
      "   -- ------------------------------------- 3.4/46.2 MB 3.3 MB/s eta 0:00:13\n",
      "   --- ------------------------------------ 3.7/46.2 MB 3.1 MB/s eta 0:00:14\n",
      "   ---- ----------------------------------- 4.7/46.2 MB 3.2 MB/s eta 0:00:13\n",
      "   ----- ---------------------------------- 6.0/46.2 MB 3.6 MB/s eta 0:00:12\n",
      "   ------ --------------------------------- 7.3/46.2 MB 3.8 MB/s eta 0:00:11\n",
      "   ------- -------------------------------- 8.7/46.2 MB 4.1 MB/s eta 0:00:10\n",
      "   -------- ------------------------------- 9.4/46.2 MB 4.1 MB/s eta 0:00:09\n",
      "   --------- ------------------------------ 11.0/46.2 MB 4.3 MB/s eta 0:00:09\n",
      "   ---------- ----------------------------- 12.3/46.2 MB 4.5 MB/s eta 0:00:08\n",
      "   ------------ --------------------------- 13.9/46.2 MB 4.7 MB/s eta 0:00:07\n",
      "   ------------- -------------------------- 15.2/46.2 MB 4.8 MB/s eta 0:00:07\n",
      "   -------------- ------------------------- 16.5/46.2 MB 4.9 MB/s eta 0:00:07\n",
      "   --------------- ------------------------ 18.1/46.2 MB 5.0 MB/s eta 0:00:06\n",
      "   ----------------- ---------------------- 19.7/46.2 MB 5.1 MB/s eta 0:00:06\n",
      "   ------------------ --------------------- 21.0/46.2 MB 5.2 MB/s eta 0:00:05\n",
      "   ------------------- -------------------- 22.5/46.2 MB 5.3 MB/s eta 0:00:05\n",
      "   -------------------- ------------------- 23.9/46.2 MB 5.4 MB/s eta 0:00:05\n",
      "   ---------------------- ----------------- 25.4/46.2 MB 5.4 MB/s eta 0:00:04\n",
      "   ----------------------- ---------------- 27.0/46.2 MB 5.5 MB/s eta 0:00:04\n",
      "   ------------------------ --------------- 28.3/46.2 MB 5.6 MB/s eta 0:00:04\n",
      "   ------------------------- -------------- 29.4/46.2 MB 5.5 MB/s eta 0:00:04\n",
      "   -------------------------- ------------- 30.7/46.2 MB 5.6 MB/s eta 0:00:03\n",
      "   --------------------------- ------------ 32.0/46.2 MB 5.6 MB/s eta 0:00:03\n",
      "   ----------------------------- ---------- 33.6/46.2 MB 5.7 MB/s eta 0:00:03\n",
      "   ------------------------------ --------- 34.9/46.2 MB 5.7 MB/s eta 0:00:02\n",
      "   ------------------------------- -------- 36.4/46.2 MB 5.7 MB/s eta 0:00:02\n",
      "   -------------------------------- ------- 38.0/46.2 MB 5.8 MB/s eta 0:00:02\n",
      "   ---------------------------------- ----- 39.6/46.2 MB 5.8 MB/s eta 0:00:02\n",
      "   ----------------------------------- ---- 40.9/46.2 MB 5.8 MB/s eta 0:00:01\n",
      "   ------------------------------------ --- 42.2/46.2 MB 5.9 MB/s eta 0:00:01\n",
      "   ------------------------------------- -- 43.8/46.2 MB 5.9 MB/s eta 0:00:01\n",
      "   ---------------------------------------  45.1/46.2 MB 5.9 MB/s eta 0:00:01\n",
      "   ---------------------------------------  46.1/46.2 MB 5.9 MB/s eta 0:00:01\n",
      "   ---------------------------------------- 46.2/46.2 MB 5.8 MB/s eta 0:00:00\n",
      "Installing collected packages: opencv-contrib-python\n",
      "Successfully installed opencv-contrib-python-4.11.0.86\n"
     ]
    }
   ],
   "source": [
    "pip install opencv-contrib-python\n"
   ]
  },
  {
   "cell_type": "code",
   "execution_count": 5,
   "id": "c50aede3-a02f-47cb-9570-5b1292fcbb9f",
   "metadata": {},
   "outputs": [
    {
     "name": "stdout",
     "output_type": "stream",
     "text": [
      "4.11.0\n"
     ]
    }
   ],
   "source": [
    "print(cv2.__version__)"
   ]
  },
  {
   "cell_type": "code",
   "execution_count": 42,
   "id": "2e7f2346-e0a6-4aea-989e-46a792c9a978",
   "metadata": {},
   "outputs": [],
   "source": [
    "import numpy as np\n",
    "import cv2"
   ]
  },
  {
   "cell_type": "markdown",
   "id": "7ca48eb5-5738-4328-860f-c1bde8c58ee1",
   "metadata": {},
   "source": [
    "# Load an Image"
   ]
  },
  {
   "cell_type": "code",
   "execution_count": 43,
   "id": "80fa1bbb-bda2-48a3-b015-d67b6e71de64",
   "metadata": {},
   "outputs": [],
   "source": [
    "img = cv2.imread('./images/flamingo.jpg')"
   ]
  },
  {
   "cell_type": "code",
   "execution_count": 44,
   "id": "b0fb3997-2713-4c40-8a4d-56cc8ece41ce",
   "metadata": {},
   "outputs": [
    {
     "name": "stdout",
     "output_type": "stream",
     "text": [
      "Image loaded successfully!\n"
     ]
    }
   ],
   "source": [
    "# Check if the image loaded successfully\n",
    "if img is None:\n",
    "    print(\"Image not loaded! Check the file path.\")\n",
    "else:\n",
    "    print(\"Image loaded successfully!\")"
   ]
  },
  {
   "cell_type": "code",
   "execution_count": 45,
   "id": "6b7bbd2d-bf9e-4815-8304-7c40726f1629",
   "metadata": {},
   "outputs": [
    {
     "name": "stdout",
     "output_type": "stream",
     "text": [
      "[[[188 163 119]\n",
      "  [189 164 120]\n",
      "  [189 164 120]\n",
      "  ...\n",
      "  [188 163 119]\n",
      "  [188 163 119]\n",
      "  [188 163 119]]\n",
      "\n",
      " [[188 163 119]\n",
      "  [189 164 120]\n",
      "  [189 164 120]\n",
      "  ...\n",
      "  [188 163 119]\n",
      "  [188 163 119]\n",
      "  [188 163 119]]\n",
      "\n",
      " [[188 163 119]\n",
      "  [189 164 120]\n",
      "  [189 164 120]\n",
      "  ...\n",
      "  [188 163 119]\n",
      "  [188 163 119]\n",
      "  [188 163 119]]\n",
      "\n",
      " ...\n",
      "\n",
      " [[167 134  88]\n",
      "  [167 134  88]\n",
      "  [167 134  88]\n",
      "  ...\n",
      "  [177 144  98]\n",
      "  [177 144  98]\n",
      "  [177 144  98]]\n",
      "\n",
      " [[171 141  94]\n",
      "  [171 141  94]\n",
      "  [172 142  95]\n",
      "  ...\n",
      "  [177 144  98]\n",
      "  [177 144  98]\n",
      "  [177 144  98]]\n",
      "\n",
      " [[177 147 100]\n",
      "  [177 147 100]\n",
      "  [178 148 101]\n",
      "  ...\n",
      "  [177 144  98]\n",
      "  [177 144  98]\n",
      "  [177 144  98]]]\n"
     ]
    }
   ],
   "source": [
    "print(img)"
   ]
  },
  {
   "cell_type": "code",
   "execution_count": 46,
   "id": "b5ff9d1e-99b2-48d7-b310-6a2866016392",
   "metadata": {},
   "outputs": [
    {
     "data": {
      "text/plain": [
       "(640, 640, 3)"
      ]
     },
     "execution_count": 46,
     "metadata": {},
     "output_type": "execute_result"
    }
   ],
   "source": [
    "img.shape\n",
    "#(rows, colums, channels-BGR format)"
   ]
  },
  {
   "cell_type": "markdown",
   "id": "ef35a9a5-0b3b-438f-bd82-ba333fec3bd0",
   "metadata": {},
   "source": [
    "# Display an Image"
   ]
  },
  {
   "cell_type": "code",
   "execution_count": 47,
   "id": "a6659f37-fa37-49d4-b0a1-5fa44c064e21",
   "metadata": {},
   "outputs": [],
   "source": [
    "cv2.imshow('example',img)\n",
    "#cv2.waitKey(10000) #10sec in milliseconds\n",
    "cv2.waitKey(0) #wait till infinity\n",
    "cv2.destroyAllWindows()"
   ]
  },
  {
   "cell_type": "markdown",
   "id": "255c7909-c1f7-4500-8952-3a59db27d397",
   "metadata": {},
   "source": [
    "# Save an Image"
   ]
  },
  {
   "cell_type": "code",
   "execution_count": 48,
   "id": "a45b8ce5-6d6e-46a0-8f88-8c776840f98a",
   "metadata": {},
   "outputs": [
    {
     "data": {
      "text/plain": [
       "True"
      ]
     },
     "execution_count": 48,
     "metadata": {},
     "output_type": "execute_result"
    }
   ],
   "source": [
    "cv2.imwrite('./images/example.png',img)"
   ]
  },
  {
   "cell_type": "code",
   "execution_count": 49,
   "id": "09378b1f-af27-4cf2-9473-2d0e4d15d500",
   "metadata": {},
   "outputs": [
    {
     "name": "stdout",
     "output_type": "stream",
     "text": [
      "Image saved successfully: True\n"
     ]
    }
   ],
   "source": [
    "saved = cv2.imwrite('./images/example.png', img)\n",
    "print(\"Image saved successfully:\", saved)\n"
   ]
  },
  {
   "cell_type": "code",
   "execution_count": null,
   "id": "f460b68d-0fec-4dc0-8c97-1252368f3c00",
   "metadata": {},
   "outputs": [],
   "source": []
  }
 ],
 "metadata": {
  "kernelspec": {
   "display_name": "Python 3 (ipykernel)",
   "language": "python",
   "name": "python3"
  },
  "language_info": {
   "codemirror_mode": {
    "name": "ipython",
    "version": 3
   },
   "file_extension": ".py",
   "mimetype": "text/x-python",
   "name": "python",
   "nbconvert_exporter": "python",
   "pygments_lexer": "ipython3",
   "version": "3.12.7"
  }
 },
 "nbformat": 4,
 "nbformat_minor": 5
}
