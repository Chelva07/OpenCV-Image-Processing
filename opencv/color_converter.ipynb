{
 "cells": [
  {
   "cell_type": "code",
   "execution_count": 1,
   "id": "6908c149-97fe-4103-90a0-2bbd2337d1e5",
   "metadata": {},
   "outputs": [],
   "source": [
    "import numpy as np\n",
    "import cv2"
   ]
  },
  {
   "cell_type": "code",
   "execution_count": 2,
   "id": "6bc94aab-330b-44cf-babc-6df1ee7b70e0",
   "metadata": {},
   "outputs": [],
   "source": [
    "img = cv2.imread('./images/flamingo.jpg')"
   ]
  },
  {
   "cell_type": "code",
   "execution_count": 3,
   "id": "658c35b8-e09d-45ee-afab-adb544a62967",
   "metadata": {},
   "outputs": [
    {
     "data": {
      "text/plain": [
       "array([[[188, 163, 119],\n",
       "        [189, 164, 120],\n",
       "        [189, 164, 120],\n",
       "        ...,\n",
       "        [188, 163, 119],\n",
       "        [188, 163, 119],\n",
       "        [188, 163, 119]],\n",
       "\n",
       "       [[188, 163, 119],\n",
       "        [189, 164, 120],\n",
       "        [189, 164, 120],\n",
       "        ...,\n",
       "        [188, 163, 119],\n",
       "        [188, 163, 119],\n",
       "        [188, 163, 119]],\n",
       "\n",
       "       [[188, 163, 119],\n",
       "        [189, 164, 120],\n",
       "        [189, 164, 120],\n",
       "        ...,\n",
       "        [188, 163, 119],\n",
       "        [188, 163, 119],\n",
       "        [188, 163, 119]],\n",
       "\n",
       "       ...,\n",
       "\n",
       "       [[167, 134,  88],\n",
       "        [167, 134,  88],\n",
       "        [167, 134,  88],\n",
       "        ...,\n",
       "        [177, 144,  98],\n",
       "        [177, 144,  98],\n",
       "        [177, 144,  98]],\n",
       "\n",
       "       [[171, 141,  94],\n",
       "        [171, 141,  94],\n",
       "        [172, 142,  95],\n",
       "        ...,\n",
       "        [177, 144,  98],\n",
       "        [177, 144,  98],\n",
       "        [177, 144,  98]],\n",
       "\n",
       "       [[177, 147, 100],\n",
       "        [177, 147, 100],\n",
       "        [178, 148, 101],\n",
       "        ...,\n",
       "        [177, 144,  98],\n",
       "        [177, 144,  98],\n",
       "        [177, 144,  98]]], dtype=uint8)"
      ]
     },
     "execution_count": 3,
     "metadata": {},
     "output_type": "execute_result"
    }
   ],
   "source": [
    "img"
   ]
  },
  {
   "cell_type": "code",
   "execution_count": 4,
   "id": "68bb27a9-d1bd-4240-906e-0e7634157cb0",
   "metadata": {},
   "outputs": [
    {
     "data": {
      "text/plain": [
       "(640, 640, 3)"
      ]
     },
     "execution_count": 4,
     "metadata": {},
     "output_type": "execute_result"
    }
   ],
   "source": [
    "img.shape"
   ]
  },
  {
   "cell_type": "markdown",
   "id": "5e9a3e5d-482c-43cc-897d-49c08eae67ed",
   "metadata": {},
   "source": [
    "# Splitting an Image"
   ]
  },
  {
   "cell_type": "code",
   "execution_count": 5,
   "id": "dd3a247c-7fc5-4ea5-aef5-84894edd0be9",
   "metadata": {},
   "outputs": [],
   "source": [
    "b,g,r = cv2.split(img)"
   ]
  },
  {
   "cell_type": "code",
   "execution_count": 6,
   "id": "de73c3cb-3a66-4dfc-bbe9-45a760c67a38",
   "metadata": {},
   "outputs": [
    {
     "data": {
      "text/plain": [
       "array([[188, 189, 189, ..., 188, 188, 188],\n",
       "       [188, 189, 189, ..., 188, 188, 188],\n",
       "       [188, 189, 189, ..., 188, 188, 188],\n",
       "       ...,\n",
       "       [167, 167, 167, ..., 177, 177, 177],\n",
       "       [171, 171, 172, ..., 177, 177, 177],\n",
       "       [177, 177, 178, ..., 177, 177, 177]], dtype=uint8)"
      ]
     },
     "execution_count": 6,
     "metadata": {},
     "output_type": "execute_result"
    }
   ],
   "source": [
    "b"
   ]
  },
  {
   "cell_type": "code",
   "execution_count": 7,
   "id": "f25315ce-b04d-4467-a8a2-aa9321458ef6",
   "metadata": {},
   "outputs": [],
   "source": [
    "cv2.imshow('color',img)\n",
    "cv2.waitKey(0)\n",
    "cv2.destroyAllWindows()"
   ]
  },
  {
   "cell_type": "code",
   "execution_count": 8,
   "id": "6069d80f-acd4-4081-a8cf-2f000cb77fa6",
   "metadata": {},
   "outputs": [],
   "source": [
    "cv2.imshow('blue',b)\n",
    "cv2.waitKey(0)\n",
    "cv2.destroyAllWindows()"
   ]
  },
  {
   "cell_type": "code",
   "execution_count": 9,
   "id": "f60b557b-884a-4c99-9048-8de7766c8bda",
   "metadata": {},
   "outputs": [],
   "source": [
    "cv2.imshow('green',g)\n",
    "cv2.waitKey(0)\n",
    "cv2.destroyAllWindows()"
   ]
  },
  {
   "cell_type": "code",
   "execution_count": 10,
   "id": "d78d71e7-aed2-4dbb-9305-ef3fc24158d8",
   "metadata": {},
   "outputs": [],
   "source": [
    "cv2.imshow('red',r)\n",
    "cv2.waitKey(0)\n",
    "cv2.destroyAllWindows()\n",
    "#the color which is mentioned will be light "
   ]
  },
  {
   "cell_type": "markdown",
   "id": "8be26c08-7683-4b62-887e-efa1b5b63f2c",
   "metadata": {},
   "source": [
    "# Color Converter"
   ]
  },
  {
   "cell_type": "code",
   "execution_count": 11,
   "id": "5334c036-5b9e-4e83-8fb1-777b67f3a466",
   "metadata": {},
   "outputs": [],
   "source": [
    "img_rgb = cv2.cvtColor(img,cv2.COLOR_BGR2RGB)"
   ]
  },
  {
   "cell_type": "code",
   "execution_count": 12,
   "id": "c00d7c13-8afb-4d46-97ee-f109eb2fc61a",
   "metadata": {},
   "outputs": [],
   "source": [
    "#gray scale \n",
    "gray = cv2.cvtColor(img,cv2.COLOR_BGR2GRAY)"
   ]
  },
  {
   "cell_type": "code",
   "execution_count": 13,
   "id": "ff706615-1996-4933-a0df-38f314f7c32e",
   "metadata": {},
   "outputs": [],
   "source": [
    "cv2.imshow('color_bgr',img)\n",
    "cv2.waitKey(0)\n",
    "cv2.destroyAllWindows()"
   ]
  },
  {
   "cell_type": "code",
   "execution_count": 14,
   "id": "07f52111-73be-44e3-948c-aa97d91f3a79",
   "metadata": {},
   "outputs": [],
   "source": [
    "cv2.imshow('color_bgr',img_rgb)\n",
    "cv2.waitKey(0)\n",
    "cv2.destroyAllWindows()"
   ]
  },
  {
   "cell_type": "code",
   "execution_count": 15,
   "id": "a1b0ebc6-6ef3-451e-8bf9-21476d80f260",
   "metadata": {},
   "outputs": [],
   "source": [
    "cv2.imshow('gray',gray)\n",
    "cv2.waitKey(0)\n",
    "cv2.destroyAllWindows()"
   ]
  },
  {
   "cell_type": "code",
   "execution_count": 16,
   "id": "4dccbf47-bc0a-42e7-9c98-93b8958a0dc5",
   "metadata": {},
   "outputs": [
    {
     "data": {
      "text/plain": [
       "True"
      ]
     },
     "execution_count": 16,
     "metadata": {},
     "output_type": "execute_result"
    }
   ],
   "source": [
    "cv2.imwrite('GRAY.png',gray)"
   ]
  }
 ],
 "metadata": {
  "kernelspec": {
   "display_name": "Python 3 (ipykernel)",
   "language": "python",
   "name": "python3"
  },
  "language_info": {
   "codemirror_mode": {
    "name": "ipython",
    "version": 3
   },
   "file_extension": ".py",
   "mimetype": "text/x-python",
   "name": "python",
   "nbconvert_exporter": "python",
   "pygments_lexer": "ipython3",
   "version": "3.12.7"
  }
 },
 "nbformat": 4,
 "nbformat_minor": 5
}
