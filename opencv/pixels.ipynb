{
 "cells": [
  {
   "cell_type": "code",
   "execution_count": 1,
   "id": "353cd37e-1d86-4bf5-a43d-f2239ceb9730",
   "metadata": {},
   "outputs": [],
   "source": [
    "import numpy as np\n",
    "import cv2"
   ]
  },
  {
   "cell_type": "code",
   "execution_count": 2,
   "id": "887d0970-4204-48a8-8420-e9643de63463",
   "metadata": {},
   "outputs": [],
   "source": [
    "img = cv2.imread('./images/Kingfisher.jpg')"
   ]
  },
  {
   "cell_type": "code",
   "execution_count": 6,
   "id": "3fdfa0e1-d68a-43c2-a848-5aa5aeaeda8d",
   "metadata": {},
   "outputs": [],
   "source": [
    "#create a function to display the image\n",
    "def display(winname,image): # window name, image var\n",
    "    cv2.imshow(winname,image)\n",
    "    cv2.waitKey(0)\n",
    "    cv2.destroyAllWindows"
   ]
  },
  {
   "cell_type": "code",
   "execution_count": 5,
   "id": "2c2e7262-4063-499e-ae7b-bf25308c7eea",
   "metadata": {},
   "outputs": [],
   "source": [
    "display('bird',img)"
   ]
  },
  {
   "cell_type": "code",
   "execution_count": 7,
   "id": "17691eca-4962-47ec-8574-3a47158ee577",
   "metadata": {},
   "outputs": [
    {
     "data": {
      "text/plain": [
       "(681, 640, 3)"
      ]
     },
     "execution_count": 7,
     "metadata": {},
     "output_type": "execute_result"
    }
   ],
   "source": [
    "img.shape"
   ]
  },
  {
   "cell_type": "code",
   "execution_count": 8,
   "id": "06d122cb-d7f6-44b0-83f8-ca0f5af8f831",
   "metadata": {},
   "outputs": [
    {
     "data": {
      "text/plain": [
       "numpy.ndarray"
      ]
     },
     "execution_count": 8,
     "metadata": {},
     "output_type": "execute_result"
    }
   ],
   "source": [
    "type(img)"
   ]
  },
  {
   "cell_type": "markdown",
   "id": "3e8cfd05-efed-476d-8106-917d20d2acff",
   "metadata": {},
   "source": [
    "# Accessing and Manipulating Pixels"
   ]
  },
  {
   "cell_type": "code",
   "execution_count": 9,
   "id": "5858d024-288c-4cf1-9206-7b1b31cab163",
   "metadata": {},
   "outputs": [],
   "source": [
    "#accessing 1st 100 rows and columns\n",
    "corners = img[0:100,0:100]"
   ]
  },
  {
   "cell_type": "code",
   "execution_count": 12,
   "id": "6adf009e-60ca-4516-958e-465bbc6d58de",
   "metadata": {},
   "outputs": [],
   "source": [
    "display('corners',corners)\n",
    "#if you need, display and check with the original image"
   ]
  },
  {
   "cell_type": "code",
   "execution_count": 14,
   "id": "f03be768-7e6a-4b32-8637-7cd66fdbdc86",
   "metadata": {},
   "outputs": [],
   "source": [
    "#changing the color of the corners\n",
    "green = (0,255,0) #8 bit pixel in bgr format\n",
    "img[0:100,0:100] = green"
   ]
  },
  {
   "cell_type": "code",
   "execution_count": 16,
   "id": "7cfaa1b3-d8d8-40cc-a697-724aeb67d683",
   "metadata": {},
   "outputs": [],
   "source": [
    "display('manipulate', img)"
   ]
  },
  {
   "cell_type": "code",
   "execution_count": 20,
   "id": "3eb511a2-6383-4dbd-82e3-f9e78794c824",
   "metadata": {},
   "outputs": [],
   "source": [
    "corner2 = img[559:681,549:640]"
   ]
  },
  {
   "cell_type": "code",
   "execution_count": 21,
   "id": "051d313e-5a3b-4759-aa02-b42a893eae99",
   "metadata": {},
   "outputs": [],
   "source": [
    "display('corner2',corner2)"
   ]
  },
  {
   "cell_type": "code",
   "execution_count": 25,
   "id": "85e873df-3d89-4854-acce-5c6c2a557cee",
   "metadata": {},
   "outputs": [],
   "source": [
    "white = (255,255,255)\n",
    "img[559:681,549:640] = white"
   ]
  },
  {
   "cell_type": "code",
   "execution_count": 26,
   "id": "53aa41a4-588f-46f0-8b58-065594c9aae7",
   "metadata": {},
   "outputs": [],
   "source": [
    "display('manipulate2',img)"
   ]
  },
  {
   "cell_type": "code",
   "execution_count": null,
   "id": "bb65b500-98c2-431f-9e5a-677d3daa57a5",
   "metadata": {},
   "outputs": [],
   "source": []
  }
 ],
 "metadata": {
  "kernelspec": {
   "display_name": "Python 3 (ipykernel)",
   "language": "python",
   "name": "python3"
  },
  "language_info": {
   "codemirror_mode": {
    "name": "ipython",
    "version": 3
   },
   "file_extension": ".py",
   "mimetype": "text/x-python",
   "name": "python",
   "nbconvert_exporter": "python",
   "pygments_lexer": "ipython3",
   "version": "3.12.7"
  }
 },
 "nbformat": 4,
 "nbformat_minor": 5
}
